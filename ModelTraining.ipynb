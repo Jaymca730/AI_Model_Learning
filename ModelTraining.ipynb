{
  "nbformat": 4,
  "nbformat_minor": 0,
  "metadata": {
    "colab": {
      "provenance": [],
      "authorship_tag": "ABX9TyMd+8g2IwBhmeieDLUMko3V",
      "include_colab_link": true
    },
    "kernelspec": {
      "name": "python3",
      "display_name": "Python 3"
    },
    "language_info": {
      "name": "python"
    }
  },
  "cells": [
    {
      "cell_type": "markdown",
      "metadata": {
        "id": "view-in-github",
        "colab_type": "text"
      },
      "source": [
        "<a href=\"https://colab.research.google.com/github/Jaymca730/AI_Model_Learning/blob/main/ModelTraining.ipynb\" target=\"_parent\"><img src=\"https://colab.research.google.com/assets/colab-badge.svg\" alt=\"Open In Colab\"/></a>"
      ]
    },
    {
      "cell_type": "code",
      "execution_count": 45,
      "metadata": {
        "id": "9ulMy5qebq5b"
      },
      "outputs": [],
      "source": [
        "import torch\n",
        "import torch.nn as nn\n",
        "import torch.nn.functional as F\n",
        "import sklearn as sk\n",
        "import ast\n",
        "import numpy as np\n",
        "\n"
      ]
    },
    {
      "cell_type": "code",
      "source": [
        "class Model(nn.Module):\n",
        "\n",
        "  #Input layer (Features) -- Layer 1 (hidden) -- Layer 2 (hidden) -- Output\n",
        "\n",
        "  def __init__(self,in_features=10, h1=10, h2=7, out_features=3):\n",
        "    super().__init__()\n",
        "    self.fc1 = nn.Linear(in_features, h1)\n",
        "    self.fc2 = nn.Linear(h1, h2)\n",
        "    self.out_features = nn.Linear(h2,out_features)\n",
        "\n",
        "\n",
        "  def forward(self, x):\n",
        "    x = F.relu(self.fc1(x))\n",
        "    x = F.relu(self.fc2(x))\n",
        "    x = self.out(x)\n",
        "\n",
        "    return x"
      ],
      "metadata": {
        "id": "50gSsbD-cf2_"
      },
      "execution_count": 46,
      "outputs": []
    },
    {
      "cell_type": "code",
      "source": [
        "torch.manual_seed(26)\n",
        "\n",
        "\n",
        "model = Model()"
      ],
      "metadata": {
        "id": "UxoDptprnV6X"
      },
      "execution_count": 47,
      "outputs": []
    },
    {
      "cell_type": "code",
      "source": [
        "import pandas as pd\n",
        "import matplotlib.pyplot as plt\n",
        "%matplotlib inline"
      ],
      "metadata": {
        "id": "1xUNzf55oUtW"
      },
      "execution_count": 48,
      "outputs": []
    },
    {
      "cell_type": "code",
      "source": [
        "url = \"https://raw.githubusercontent.com/Jaymca730/AI_Model_Learning/main/Bank%20Customer%20Churn%20Prediction.csv\"\n",
        "my_df = pd.read_csv(url)"
      ],
      "metadata": {
        "id": "DCIFUooPojqE"
      },
      "execution_count": 49,
      "outputs": []
    },
    {
      "cell_type": "code",
      "source": [
        "Germany = 'Germany, 0.0'\n",
        "eval(Germany)\n",
        "my_df['country'] = my_df['country'].replace('France, 1.0')\n",
        "my_df['country'] = my_df['country'].replace('Spain, 2.0')"
      ],
      "metadata": {
        "id": "CpI4pj9iwSyr"
      },
      "execution_count": 50,
      "outputs": []
    },
    {
      "cell_type": "code",
      "source": [
        "X = my_df.drop('churn', axis=1)\n",
        "y = my_df['churn']\n"
      ],
      "metadata": {
        "id": "ZkzCVQeIylh1"
      },
      "execution_count": 51,
      "outputs": []
    },
    {
      "cell_type": "code",
      "source": [
        " my_df"
      ],
      "metadata": {
        "id": "u7GoWHRzASwc"
      },
      "execution_count": null,
      "outputs": []
    },
    {
      "cell_type": "markdown",
      "source": [],
      "metadata": {
        "id": "C_m4-uex08O2"
      }
    },
    {
      "cell_type": "code",
      "source": [
        "X = X.values\n",
        "y = y.values"
      ],
      "metadata": {
        "id": "3okzQ5320K6d"
      },
      "execution_count": 53,
      "outputs": []
    },
    {
      "cell_type": "code",
      "source": [
        "from sklearn.model_selection import train_test_split"
      ],
      "metadata": {
        "id": "VdCMaYdE0aaN"
      },
      "execution_count": 54,
      "outputs": []
    },
    {
      "cell_type": "code",
      "source": [
        "X_train, X_test, y_train, y_test = train_test_split(X,y,test_size=0.3, random_state=22)"
      ],
      "metadata": {
        "id": "SuRmuNEs0nqN"
      },
      "execution_count": 55,
      "outputs": []
    },
    {
      "cell_type": "code",
      "source": [
        "def to_numeric(value):\n",
        "  try:\n",
        "    return int(value)\n",
        "  except ValueError:\n",
        "    try:\n",
        "      return float(value)\n",
        "    except ValueError:\n",
        "      return None"
      ],
      "metadata": {
        "id": "iDGHi0j3pcsl"
      },
      "execution_count": 56,
      "outputs": []
    },
    {
      "cell_type": "code",
      "source": [
        "print (type('France'))"
      ],
      "metadata": {
        "colab": {
          "base_uri": "https://localhost:8080/"
        },
        "id": "GzAPm2ec-Xci",
        "outputId": "8890b33b-cf7c-483c-a3d7-eb49d63fca7f"
      },
      "execution_count": 57,
      "outputs": [
        {
          "output_type": "stream",
          "name": "stdout",
          "text": [
            "<class 'str'>\n"
          ]
        }
      ]
    },
    {
      "cell_type": "code",
      "source": [
        "input_string = 'Germany'\n",
        "\n",
        "try:\n",
        "    converted = float(input_string)\n",
        "\n",
        "except ValueError:\n",
        "    converted = 0\n",
        "\n",
        "print(converted)"
      ],
      "metadata": {
        "colab": {
          "base_uri": "https://localhost:8080/"
        },
        "id": "WMPdAlO0p73d",
        "outputId": "8da35ec3-8b63-4d48-98da-1b65e9e35206"
      },
      "execution_count": 58,
      "outputs": [
        {
          "output_type": "stream",
          "name": "stdout",
          "text": [
            "0\n"
          ]
        }
      ]
    },
    {
      "cell_type": "code",
      "source": [
        "import numpy as np\n"
      ],
      "metadata": {
        "id": "2XxU9REP_YBa"
      },
      "execution_count": 59,
      "outputs": []
    },
    {
      "cell_type": "code",
      "source": [
        "X_train = np.array(X_train)\n",
        "X_test = np.array(X_test)\n",
        "\n"
      ],
      "metadata": {
        "id": "0a4MK9M845jG"
      },
      "execution_count": 60,
      "outputs": []
    },
    {
      "cell_type": "code",
      "source": [
        "criterion = nn.CrossEntropyLoss()\n",
        "\n",
        "optimizer = torch.optim.Adam(model.parameters(), lr=0.01)"
      ],
      "metadata": {
        "id": "adLtbvkJ37fp"
      },
      "execution_count": 61,
      "outputs": []
    },
    {
      "cell_type": "code",
      "source": [
        "my_df"
      ],
      "metadata": {
        "id": "9eJGr2p4Dcte"
      },
      "execution_count": null,
      "outputs": []
    },
    {
      "cell_type": "code",
      "source": [
        "epochs = 300\n",
        "losses = []\n",
        "for i in range(epochs):\n",
        "\n",
        "  y_pred = model.forward(torch.from_numpy(X_train))\n",
        "\n",
        "  loss = criterion(y_pred, y_train)\n",
        "\n",
        "  losses.append(loss.detach().numpy())\n",
        "\n",
        "  if i % 100 == 0:\n",
        "    print(f'epochs: {i} and loss: {loss}')\n",
        "\n",
        "\n",
        "#Issue is DataSet str cannot be converted to int!!!"
      ],
      "metadata": {
        "id": "XsZ0hXPe_bSC"
      },
      "execution_count": null,
      "outputs": []
    }
  ]
}